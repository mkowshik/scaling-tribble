{
 "metadata": {
  "name": "SQLtest.ipynb"
 },
 "nbformat": 3,
 "nbformat_minor": 0,
 "worksheets": [
  {
   "cells": [
    {
     "cell_type": "code",
     "collapsed": false,
     "input": [
      "import sqlite3\n",
      "conn = sqlite3.connect('/Users/Manoj/Downloads/ecoach17.db')"
     ],
     "language": "python",
     "metadata": {},
     "outputs": [],
     "prompt_number": 1
    },
    {
     "cell_type": "code",
     "collapsed": false,
     "input": [
      "c = conn.cursor()\n",
      "c.execute('select * from pr_raw limit 10')"
     ],
     "language": "python",
     "metadata": {},
     "outputs": [
      {
       "metadata": {},
       "output_type": "pyout",
       "prompt_number": 2,
       "text": [
        "<sqlite3.Cursor at 0x10b317420>"
       ]
      }
     ],
     "prompt_number": 2
    },
    {
     "cell_type": "code",
     "collapsed": false,
     "input": [
      "conn.commit()"
     ],
     "language": "python",
     "metadata": {},
     "outputs": [],
     "prompt_number": 3
    },
    {
     "cell_type": "code",
     "collapsed": false,
     "input": [
      "for row in c.execute('SELECT * FROM pr_raw LIMIT 10'):\n",
      "    print row"
     ],
     "language": "python",
     "metadata": {},
     "outputs": [
      {
       "output_type": "stream",
       "stream": "stdout",
       "text": [
        "(5, 1389246296, 1389246255, 5, u'Physics 240', u'Midterm 1', u'https://docs.google.com/document/pub?id=1Crr17-2d3A_lTiM5Lpu3F_KGEx2jrjmH6eYLy3JL2Tc', u'madgill')\n",
        "(5, 1389246306, 1389246298, 0, u'Physics 240', u'Midterm 1', u'https://docs.google.com/document/pub?id=1YrUn5ROEQA2p3cFK3H6Q1VyDYGf2outYKedEhf9sja4', u'madgill')\n",
        "(2, 1389246314, 1389246307, 0, u'Physics 240', u'Midterm 1', u'https://docs.google.com/document/pub?id=1BH2kHCisDCPe2b8lPRgykde8vXFp4buohQurW1asSJg', u'madgill')\n",
        "(1, 1389283656, 1389283515, 3, u'Physics 240', u'Midterm 1', u'https://docs.google.com/document/pub?id=1j0qBmxRdjj5BDPUTkMMgWP7jCRNjh0zLQ7TSPqNGwSU', u'madgill')\n",
        "(1, 1389283800, 1389283791, 0, u'Physics 240', u'Midterm 1', u'https://docs.google.com/document/pub?id=1yiPtqCYMVCzf9bS-0k3scZ_kqRnPN0_JxYK2WHZjB1E', u'madgill')\n",
        "(3, 1389283818, 1389283800, 0, u'Physics 240', u'Midterm 1', u'https://docs.google.com/document/pub?id=1IL5sEd4J5uyOfYG65jLq1GL_nDQfXqGamtDwfcoY530', u'madgill')\n",
        "(1, 1389283824, 1389283819, 0, u'Physics 240', u'Midterm 1', u'https://docs.google.com/document/pub?id=1xdJ92FdQj_ynZ2uteHMWLV7oouugKKSFVE7I5qYIQ1M', u'madgill')"
       ]
      },
      {
       "output_type": "stream",
       "stream": "stdout",
       "text": [
        "\n",
        "(5, 1389283902, 1389283824, 3, u'Physics 240', u'Midterm 1', u'https://docs.google.com/document/pub?id=1bSKFYno-WZabB1qPdBqc4UN3DMwxvzMhwIGymorLenE', u'madgill')\n",
        "(4, 1389284037, 1389284028, 0, u'Physics 240', u'Midterm 1', u'https://docs.google.com/document/pub?id=1_G8Vckg_YHiP0CvlozgDVFRcR19pGV5Ukb4Njop1IuM', u'madgill')\n",
        "(4, 1389284042, 1389284037, 0, u'Physics 240', u'Midterm 1', u'https://docs.google.com/document/pub?id=1LIfaymJX5kRRwBtUxUtvq_ZTWrX7ZoX5ThB6-08Opfo', u'madgill')\n"
       ]
      }
     ],
     "prompt_number": 4
    },
    {
     "cell_type": "code",
     "collapsed": false,
     "input": [
      "con = None"
     ],
     "language": "python",
     "metadata": {},
     "outputs": [],
     "prompt_number": 6
    },
    {
     "cell_type": "code",
     "collapsed": false,
     "input": [
      "try:\n",
      "    con = lite.connect('test.db')\n",
      "    cur = con.cursor()\n",
      "    cur.execute('SELECT SQLITE_VERSION()')\n",
      "    data = cur.fetchone()\n",
      "    \n",
      "    print(\"SQLite version: %s\" , %data)\n",
      "\n",
      "except lite.Error as e:\n",
      "    \n",
      "    print (\"Error %s:\",  e.args[0])\n",
      "    sys.exit(1)\n",
      "    \n",
      "finally:\n",
      "    \n",
      "    if con:\n",
      "        con.close()          "
     ],
     "language": "python",
     "metadata": {},
     "outputs": [
      {
       "ename": "SyntaxError",
       "evalue": "invalid syntax (<ipython-input-5-f3604fc7ad90>, line 7)",
       "output_type": "pyerr",
       "traceback": [
        "\u001b[0;36m  File \u001b[0;32m\"<ipython-input-5-f3604fc7ad90>\"\u001b[0;36m, line \u001b[0;32m7\u001b[0m\n\u001b[0;31m    print(\"SQLite version: %s\" , %data)\u001b[0m\n\u001b[0m                                 ^\u001b[0m\n\u001b[0;31mSyntaxError\u001b[0m\u001b[0;31m:\u001b[0m invalid syntax\n"
       ]
      }
     ],
     "prompt_number": 5
    },
    {
     "cell_type": "code",
     "collapsed": false,
     "input": [
      "con = lite.connect('test.db')\n",
      "\n",
      "with con:\n",
      "    cur = con.cursor()\n",
      "    cur.execute('SELECT SQLITE_VERSION()')\n",
      "    \n",
      "    data = cur.fetchone()\n",
      "    \n",
      "    print('SQLite version: %s'%data)\n"
     ],
     "language": "python",
     "metadata": {},
     "outputs": [
      {
       "ename": "NameError",
       "evalue": "name 'lite' is not defined",
       "output_type": "pyerr",
       "traceback": [
        "\u001b[0;31m---------------------------------------------------------------------------\u001b[0m\n\u001b[0;31mNameError\u001b[0m                                 Traceback (most recent call last)",
        "\u001b[0;32m<ipython-input-7-7e8e7b1c5853>\u001b[0m in \u001b[0;36m<module>\u001b[0;34m()\u001b[0m\n\u001b[0;32m----> 1\u001b[0;31m \u001b[0mcon\u001b[0m \u001b[0;34m=\u001b[0m \u001b[0mlite\u001b[0m\u001b[0;34m.\u001b[0m\u001b[0mconnect\u001b[0m\u001b[0;34m(\u001b[0m\u001b[0;34m'test.db'\u001b[0m\u001b[0;34m)\u001b[0m\u001b[0;34m\u001b[0m\u001b[0m\n\u001b[0m\u001b[1;32m      2\u001b[0m \u001b[0;34m\u001b[0m\u001b[0m\n\u001b[1;32m      3\u001b[0m \u001b[0;32mwith\u001b[0m \u001b[0mcon\u001b[0m\u001b[0;34m:\u001b[0m\u001b[0;34m\u001b[0m\u001b[0m\n\u001b[1;32m      4\u001b[0m     \u001b[0mcur\u001b[0m \u001b[0;34m=\u001b[0m \u001b[0mcon\u001b[0m\u001b[0;34m.\u001b[0m\u001b[0mcursor\u001b[0m\u001b[0;34m(\u001b[0m\u001b[0;34m)\u001b[0m\u001b[0;34m\u001b[0m\u001b[0m\n\u001b[1;32m      5\u001b[0m     \u001b[0mcur\u001b[0m\u001b[0;34m.\u001b[0m\u001b[0mexecute\u001b[0m\u001b[0;34m(\u001b[0m\u001b[0;34m'SELECT SQLITE_VERSION()'\u001b[0m\u001b[0;34m)\u001b[0m\u001b[0;34m\u001b[0m\u001b[0m\n",
        "\u001b[0;31mNameError\u001b[0m: name 'lite' is not defined"
       ]
      }
     ],
     "prompt_number": 7
    },
    {
     "cell_type": "code",
     "collapsed": false,
     "input": [],
     "language": "python",
     "metadata": {},
     "outputs": []
    }
   ],
   "metadata": {}
  }
 ]
}