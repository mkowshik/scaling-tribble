{
 "metadata": {
  "name": "",
  "signature": "sha256:3e07c23bf5ba1c748631ec7919b6ba0e43b6c2e6cfede5bdf3122cf8e55cfe88"
 },
 "nbformat": 3,
 "nbformat_minor": 0,
 "worksheets": [
  {
   "cells": [
    {
     "cell_type": "heading",
     "level": 2,
     "metadata": {},
     "source": [
      "ALL STUDENT DATA"
     ]
    },
    {
     "cell_type": "code",
     "collapsed": false,
     "input": [
      "import numpy as np  \n",
      "import pandas as pd\n",
      "import matplotlib.pyplot as plt"
     ],
     "language": "python",
     "metadata": {},
     "outputs": [],
     "prompt_number": 2
    },
    {
     "cell_type": "code",
     "collapsed": false,
     "input": [
      "path = '/Users/Manoj/Dropbox/Thesis/Data/REBUILD data/ClassData_Complete.tab'\n",
      "columns = ['subject','stdntenrlstatus'] # usecols\n",
      "df = pd.read_table(path,nrows = 15)\n",
      "df.columns.values"
     ],
     "language": "python",
     "metadata": {},
     "outputs": [
      {
       "metadata": {},
       "output_type": "pyout",
       "prompt_number": 12,
       "text": [
        "array(['anonid', 'term', 'stdntenrlstatus', 'crseid', 'subject',\n",
        "       'catalognbr', 'classsection', 'gradingbasisenrldescr',\n",
        "       'includeingpa', 'untearned', 'gradepoints', 'tottakengpa',\n",
        "       'totgradepoints', 'crsegradeinput', 'grdptsperunit', 'cumgpa',\n",
        "       'termdescrshort', 'campuslocation', 'crsecomponent', 'careerlevel',\n",
        "       'sex', 'ethnicgroup', 'ethnicgroupdescrshort', 'birthdate',\n",
        "       'geolocstate', 'geoloccountry', 'degree1', 'degreedescr1',\n",
        "       'degrconferdt1', 'degree2', 'degreedescr2', 'degrconferdt2',\n",
        "       'degree3', 'degreedescr3', 'degrconferdt3', 'degree4',\n",
        "       'degreedescr4', 'degrconferdt4', 'num_degrees', 'major_deptid1',\n",
        "       'major_deptdescrformal1', 'major1', 'major_deptid2',\n",
        "       'major_deptdescrformal2', 'major2', 'major_deptid3',\n",
        "       'major_deptdescrformal3', 'major3', 'major_deptid4',\n",
        "       'major_deptdescrformal4', 'major4', 'major_deptid5',\n",
        "       'major_deptdescrformal5', 'major5', 'num_majors', 'minor_deptid1',\n",
        "       'minor_deptdescrformal1', 'minor1', 'minor_deptid2',\n",
        "       'minor_deptdescrformal2', 'minor2', 'minor_deptid3',\n",
        "       'minor_deptdescrformal3', 'minor3', 'num_minors'], dtype=object)"
       ]
      }
     ],
     "prompt_number": 12
    },
    {
     "cell_type": "code",
     "collapsed": false,
     "input": [
      "    print df.values"
     ],
     "language": "python",
     "metadata": {},
     "outputs": [
      {
       "output_type": "stream",
       "stream": "stdout",
       "text": [
        "[[7 1560 'E' ..., nan nan nan]\n",
        " [7 1570 'E' ..., nan nan nan]\n",
        " [7 1620 'E' ..., nan nan nan]\n",
        " ..., \n",
        " [7 1660 'E' ..., nan nan nan]\n",
        " [7 1670 'E' ..., nan nan nan]\n",
        " [7 1510 'E' ..., nan nan nan]]\n"
       ]
      }
     ],
     "prompt_number": 11
    },
    {
     "cell_type": "code",
     "collapsed": false,
     "input": [],
     "language": "python",
     "metadata": {},
     "outputs": []
    }
   ],
   "metadata": {}
  }
 ]
}