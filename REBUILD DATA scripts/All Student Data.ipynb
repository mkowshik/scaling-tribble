{
 "metadata": {
  "name": "",
  "signature": "sha256:2cbeab57f43291dd717bd74fd70821e4cd9599aff550171a05425b12b5b7514a"
 },
 "nbformat": 3,
 "nbformat_minor": 0,
 "worksheets": [
  {
   "cells": [
    {
     "cell_type": "heading",
     "level": 2,
     "metadata": {},
     "source": [
      "ALL STUDENT DATA"
     ]
    },
    {
     "cell_type": "code",
     "collapsed": false,
     "input": [
      "import numpy as np  \n",
      "import pandas as pd\n",
      "import matplotlib.pyplot as plt"
     ],
     "language": "python",
     "metadata": {},
     "outputs": [],
     "prompt_number": 2
    },
    {
     "cell_type": "code",
     "collapsed": false,
     "input": [
      "path = '/Users/Manoj/Dropbox/Thesis/Data/REBUILD data/ClassData_Complete.tab'\n",
      "columns = ['subject','stdntenrlstatus'] # usecols\n",
      "df = pd.read_table(path,nrows = 10)\n",
      "df.columns.values"
     ],
     "language": "python",
     "metadata": {},
     "outputs": [
      {
       "metadata": {},
       "output_type": "pyout",
       "prompt_number": 3,
       "text": [
        "array(['anonid', 'term', 'stdntenrlstatus', 'crseid', 'subject',\n",
        "       'catalognbr', 'classsection', 'gradingbasisenrldescr',\n",
        "       'includeingpa', 'untearned', 'gradepoints', 'tottakengpa',\n",
        "       'totgradepoints', 'crsegradeinput', 'grdptsperunit', 'cumgpa',\n",
        "       'termdescrshort', 'campuslocation', 'crsecomponent', 'careerlevel',\n",
        "       'sex', 'ethnicgroup', 'ethnicgroupdescrshort', 'birthdate',\n",
        "       'geolocstate', 'geoloccountry', 'degree1', 'degreedescr1',\n",
        "       'degrconferdt1', 'degree2', 'degreedescr2', 'degrconferdt2',\n",
        "       'degree3', 'degreedescr3', 'degrconferdt3', 'degree4',\n",
        "       'degreedescr4', 'degrconferdt4', 'num_degrees', 'major_deptid1',\n",
        "       'major_deptdescrformal1', 'major1', 'major_deptid2',\n",
        "       'major_deptdescrformal2', 'major2', 'major_deptid3',\n",
        "       'major_deptdescrformal3', 'major3', 'major_deptid4',\n",
        "       'major_deptdescrformal4', 'major4', 'major_deptid5',\n",
        "       'major_deptdescrformal5', 'major5', 'num_majors', 'minor_deptid1',\n",
        "       'minor_deptdescrformal1', 'minor1', 'minor_deptid2',\n",
        "       'minor_deptdescrformal2', 'minor2', 'minor_deptid3',\n",
        "       'minor_deptdescrformal3', 'minor3', 'num_minors'], dtype=object)"
       ]
      }
     ],
     "prompt_number": 3
    },
    {
     "cell_type": "code",
     "collapsed": false,
     "input": [
      "df.values"
     ],
     "language": "python",
     "metadata": {},
     "outputs": [
      {
       "metadata": {},
       "output_type": "pyout",
       "prompt_number": 4,
       "text": [
        "array([[7, 1560, 'E', 7880, 'CAAS', 200, 1, 'Graded', 'Y', 3, 12.0, 50,\n",
        "        158.4, 'A', 4.0, 3.168, 'FA 2005', 'AA CAMPUS', 'LEC', 'U', 'M', 1,\n",
        "        'White', '1986/03/19 00:00:00', 'CA', 'USA', 'AB',\n",
        "        'Bachelor of Arts', '2008/04/24 00:00:00', nan, nan, nan, nan, nan,\n",
        "        nan, nan, nan, nan, 1, 191600, 'Screen Arts and Cultures',\n",
        "        'SCREEN ARTS & CULTURES BA', nan, nan, nan, nan, nan, nan, nan,\n",
        "        nan, nan, nan, nan, nan, 1, nan, nan, nan, nan, nan, nan, nan, nan,\n",
        "        nan, nan],\n",
        "       [7, 1570, 'E', 41155, 'FILMVID', 352, 7, 'Graded', 'Y', 3, 9.9, 64,\n",
        "        207.4, 'B+', 3.3, 3.24, 'WN 2006', 'AA CAMPUS', 'DIS', 'U', 'M', 1,\n",
        "        'White', '1986/03/19 00:00:00', 'CA', 'USA', 'AB',\n",
        "        'Bachelor of Arts', '2008/04/24 00:00:00', nan, nan, nan, nan, nan,\n",
        "        nan, nan, nan, nan, 1, 191600, 'Screen Arts and Cultures',\n",
        "        'SCREEN ARTS & CULTURES BA', nan, nan, nan, nan, nan, nan, nan,\n",
        "        nan, nan, nan, nan, nan, 1, nan, nan, nan, nan, nan, nan, nan, nan,\n",
        "        nan, nan],\n",
        "       [7, 1620, 'E', 19697, 'STDABRD', 468, 19, 'Degree Credit Only', 'N',\n",
        "        4, 0.0, 78, 253.3, 'C+', 0.0, 3.247, 'WN 2007', 'AA CAMPUS', 'LEC',\n",
        "        'U', 'M', 1, 'White', '1986/03/19 00:00:00', 'CA', 'USA', 'AB',\n",
        "        'Bachelor of Arts', '2008/04/24 00:00:00', nan, nan, nan, nan, nan,\n",
        "        nan, nan, nan, nan, 1, 191600, 'Screen Arts and Cultures',\n",
        "        'SCREEN ARTS & CULTURES BA', nan, nan, nan, nan, nan, nan, nan,\n",
        "        nan, nan, nan, nan, nan, 1, nan, nan, nan, nan, nan, nan, nan, nan,\n",
        "        nan, nan],\n",
        "       [7, 1670, 'E', 19654, 'AMCULT', 345, 1, 'Graded', 'Y', 3, 12.0, 98,\n",
        "        317.8, 'A', 4.0, 3.242, 'WN 2008', 'AA CAMPUS', 'REC', 'U', 'M', 1,\n",
        "        'White', '1986/03/19 00:00:00', 'CA', 'USA', 'AB',\n",
        "        'Bachelor of Arts', '2008/04/24 00:00:00', nan, nan, nan, nan, nan,\n",
        "        nan, nan, nan, nan, 1, 191600, 'Screen Arts and Cultures',\n",
        "        'SCREEN ARTS & CULTURES BA', nan, nan, nan, nan, nan, nan, nan,\n",
        "        nan, nan, nan, nan, nan, 1, nan, nan, nan, nan, nan, nan, nan, nan,\n",
        "        nan, nan],\n",
        "       [7, 1500, 'E', 6038, 'PSYCH', 111, 201, 'Graded', 'Y', 4, 16.0, 8,\n",
        "        29.2, 'A', 4.0, 3.65, 'SU 2004', 'AA CAMPUS', 'LEC', 'U', 'M', 1,\n",
        "        'White', '1986/03/19 00:00:00', 'CA', 'USA', 'AB',\n",
        "        'Bachelor of Arts', '2008/04/24 00:00:00', nan, nan, nan, nan, nan,\n",
        "        nan, nan, nan, nan, 1, 191600, 'Screen Arts and Cultures',\n",
        "        'SCREEN ARTS & CULTURES BA', nan, nan, nan, nan, nan, nan, nan,\n",
        "        nan, nan, nan, nan, nan, 1, nan, nan, nan, nan, nan, nan, nan, nan,\n",
        "        nan, nan],\n",
        "       [7, 1610, 'E', 8224, 'SAC', 331, 1, 'Graded', 'Y', 3, 9.0, 78,\n",
        "        253.3, 'B', 3.0, 3.247, 'FA 2006', 'AA CAMPUS', 'LEC', 'U', 'M', 1,\n",
        "        'White', '1986/03/19 00:00:00', 'CA', 'USA', 'AB',\n",
        "        'Bachelor of Arts', '2008/04/24 00:00:00', nan, nan, nan, nan, nan,\n",
        "        nan, nan, nan, nan, 1, 191600, 'Screen Arts and Cultures',\n",
        "        'SCREEN ARTS & CULTURES BA', nan, nan, nan, nan, nan, nan, nan,\n",
        "        nan, nan, nan, nan, nan, 1, nan, nan, nan, nan, nan, nan, nan, nan,\n",
        "        nan, nan],\n",
        "       [7, 1560, 'E', 11961, 'FILMVID', 236, 1, 'Graded', 'Y', 4, 12.0, 50,\n",
        "        158.4, 'B', 3.0, 3.168, 'FA 2005', 'AA CAMPUS', 'LEC', 'U', 'M', 1,\n",
        "        'White', '1986/03/19 00:00:00', 'CA', 'USA', 'AB',\n",
        "        'Bachelor of Arts', '2008/04/24 00:00:00', nan, nan, nan, nan, nan,\n",
        "        nan, nan, nan, nan, 1, 191600, 'Screen Arts and Cultures',\n",
        "        'SCREEN ARTS & CULTURES BA', nan, nan, nan, nan, nan, nan, nan,\n",
        "        nan, nan, nan, nan, nan, 1, nan, nan, nan, nan, nan, nan, nan, nan,\n",
        "        nan, nan],\n",
        "       [7, 1510, 'E', 1792, 'MATH', 105, 170, 'Graded', 'Y', 4, 9.2, 24,\n",
        "        78.4, 'C+', 2.3, 3.266, 'FA 2004', 'AA CAMPUS', 'LEC', 'U', 'M', 1,\n",
        "        'White', '1986/03/19 00:00:00', 'CA', 'USA', 'AB',\n",
        "        'Bachelor of Arts', '2008/04/24 00:00:00', nan, nan, nan, nan, nan,\n",
        "        nan, nan, nan, nan, 1, 191600, 'Screen Arts and Cultures',\n",
        "        'SCREEN ARTS & CULTURES BA', nan, nan, nan, nan, nan, nan, nan,\n",
        "        nan, nan, nan, nan, nan, 1, nan, nan, nan, nan, nan, nan, nan, nan,\n",
        "        nan, nan],\n",
        "       [7, 1560, 'E', 8019, 'HISTORY', 207, 2, 'Graded', 'Y', 4, 12.0, 50,\n",
        "        158.4, 'B', 3.0, 3.168, 'FA 2005', 'AA CAMPUS', 'DIS', 'U', 'M', 1,\n",
        "        'White', '1986/03/19 00:00:00', 'CA', 'USA', 'AB',\n",
        "        'Bachelor of Arts', '2008/04/24 00:00:00', nan, nan, nan, nan, nan,\n",
        "        nan, nan, nan, nan, 1, 191600, 'Screen Arts and Cultures',\n",
        "        'SCREEN ARTS & CULTURES BA', nan, nan, nan, nan, nan, nan, nan,\n",
        "        nan, nan, nan, nan, nan, 1, nan, nan, nan, nan, nan, nan, nan, nan,\n",
        "        nan, nan],\n",
        "       [7, 1520, 'E', 1924, 'SOC', 101, 1, 'Graded', 'Y', 4, 14.8, 35,\n",
        "        113.2, 'A-', 3.7, 3.234, 'WN 2005', 'AA CAMPUS', 'LEC', 'U', 'M',\n",
        "        1, 'White', '1986/03/19 00:00:00', 'CA', 'USA', 'AB',\n",
        "        'Bachelor of Arts', '2008/04/24 00:00:00', nan, nan, nan, nan, nan,\n",
        "        nan, nan, nan, nan, 1, 191600, 'Screen Arts and Cultures',\n",
        "        'SCREEN ARTS & CULTURES BA', nan, nan, nan, nan, nan, nan, nan,\n",
        "        nan, nan, nan, nan, nan, 1, nan, nan, nan, nan, nan, nan, nan, nan,\n",
        "        nan, nan]], dtype=object)"
       ]
      }
     ],
     "prompt_number": 4
    },
    {
     "cell_type": "code",
     "collapsed": false,
     "input": [],
     "language": "python",
     "metadata": {},
     "outputs": []
    }
   ],
   "metadata": {}
  }
 ]
}