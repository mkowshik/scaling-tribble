{
 "metadata": {
  "name": ""
 },
 "nbformat": 3,
 "nbformat_minor": 0,
 "worksheets": [
  {
   "cells": [
    {
     "cell_type": "code",
     "collapsed": false,
     "input": [
      "import numpy as np\n",
      "import pandas as pd\n",
      "import matplotlib.pyplot as plt"
     ],
     "language": "python",
     "metadata": {},
     "outputs": [],
     "prompt_number": 5
    },
    {
     "cell_type": "code",
     "collapsed": false,
     "input": [
      "path = '/Users/Manoj/Dropbox/Thesis/Data/REBUILD data/ByCourse_Term_Data.tab'\n",
      "data = pd.read_table(path,sep = None)"
     ],
     "language": "python",
     "metadata": {},
     "outputs": [
      {
       "output_type": "stream",
       "stream": "stdout",
       "text": [
        "Using Python parser to sniff delimiter\n"
       ]
      }
     ],
     "prompt_number": 10
    },
    {
     "cell_type": "code",
     "collapsed": false,
     "input": [
      "##Print column names\n",
      "data.ix[0]"
     ],
     "language": "python",
     "metadata": {},
     "outputs": [
      {
       "metadata": {},
       "output_type": "pyout",
       "prompt_number": 7,
       "text": [
        "subject                           AAPTIS\n",
        "catalognbr                           100\n",
        "termdescrshort                   FA 1995\n",
        "term                                 950\n",
        "total_students                         5\n",
        "graded_students                        4\n",
        "undergrad                            0.8\n",
        "male                                 0.4\n",
        "female                               0.6\n",
        "asian                                0.2\n",
        "black                                0.2\n",
        "white                                0.4\n",
        "two_or_more                            0\n",
        "hawaiian_or_native_american            0\n",
        "unknown                              0.2\n",
        "hispanic                               0\n",
        "credits_less_30                      0.5\n",
        "credits_30_less_60                  0.25\n",
        "credits_60_less_90                     0\n",
        "credits_90_more                     0.25\n",
        "mean_grade                         3.075\n",
        "sd_grade                       0.7410578\n",
        "mean_grade_male                      3.3\n",
        "mean_grade_female                      3\n",
        "mean_gradepen                 -0.1099763\n",
        "sd_gradepen                    0.4453095\n",
        "mean_gradepen_male             0.1888888\n",
        "mean_gradepen_female           -0.209598\n",
        "mean_ncumgpa                    3.184976\n",
        "sd_ncumgpa                     0.4085742\n",
        "mean_ncumgpa_male               3.111111\n",
        "mean_ncumgpa_female             3.209598\n",
        "mean_cumgpa                       3.1565\n",
        "sd_cumgpa                      0.4214464\n",
        "mean_cumgpa_male                   3.169\n",
        "mean_cumgpa_female              3.152333\n",
        "per_Aplus                           0.25\n",
        "per_A                                  0\n",
        "per_Aminus                             0\n",
        "per_Bplus                           0.25\n",
        "per_B                                  0\n",
        "per_Bminus                          0.25\n",
        "per_Cplus                           0.25\n",
        "per_C                                  0\n",
        "per_Cminus                             0\n",
        "per_Dplus                              0\n",
        "per_D                                  0\n",
        "per_Dminus                             0\n",
        "per_E                                  0\n",
        "Name: 0, dtype: object"
       ]
      }
     ],
     "prompt_number": 7
    },
    {
     "cell_type": "code",
     "collapsed": false,
     "input": [
      "###Make a smaller table with desired variables \\n\",\n",
      "grades = data[['subject','catalognbr','termdescrshort','term','mean_grade']]\n"
     ],
     "language": "python",
     "metadata": {},
     "outputs": [],
     "prompt_number": 8
    },
    {
     "cell_type": "code",
     "collapsed": false,
     "input": [
      "department = 'PHYSICS'\n",
      "subject = grades[grades['subject'] == department]\n",
      "ordered = subject.sort_index(by = 'term',ascending = True)\n",
      "term = np.array(ordered['term'])\n",
      "grade = np.array(ordered['mean_grade'])\n",
      "plt.plot(term,grade,'.')\n",
      "#print(ordered)"
     ],
     "language": "python",
     "metadata": {},
     "outputs": [
      {
       "ename": "NameError",
       "evalue": "name 'grades' is not defined",
       "output_type": "pyerr",
       "traceback": [
        "\u001b[0;31m---------------------------------------------------------------------------\u001b[0m\n\u001b[0;31mNameError\u001b[0m                                 Traceback (most recent call last)",
        "\u001b[0;32m<ipython-input-4-5af9a35b2add>\u001b[0m in \u001b[0;36m<module>\u001b[0;34m()\u001b[0m\n\u001b[1;32m      1\u001b[0m \u001b[0mdepartment\u001b[0m \u001b[0;34m=\u001b[0m \u001b[0;34m'PHYSICS'\u001b[0m\u001b[0;34m\u001b[0m\u001b[0m\n\u001b[0;32m----> 2\u001b[0;31m \u001b[0msubject\u001b[0m \u001b[0;34m=\u001b[0m \u001b[0mgrades\u001b[0m\u001b[0;34m[\u001b[0m\u001b[0mgrades\u001b[0m\u001b[0;34m[\u001b[0m\u001b[0;34m'subject'\u001b[0m\u001b[0;34m]\u001b[0m \u001b[0;34m==\u001b[0m \u001b[0mdepartment\u001b[0m\u001b[0;34m]\u001b[0m\u001b[0;34m\u001b[0m\u001b[0m\n\u001b[0m\u001b[1;32m      3\u001b[0m \u001b[0mordered\u001b[0m \u001b[0;34m=\u001b[0m \u001b[0msubject\u001b[0m\u001b[0;34m.\u001b[0m\u001b[0msort_index\u001b[0m\u001b[0;34m(\u001b[0m\u001b[0mby\u001b[0m \u001b[0;34m=\u001b[0m \u001b[0;34m'term'\u001b[0m\u001b[0;34m,\u001b[0m\u001b[0mascending\u001b[0m \u001b[0;34m=\u001b[0m \u001b[0mTrue\u001b[0m\u001b[0;34m)\u001b[0m\u001b[0;34m\u001b[0m\u001b[0m\n\u001b[1;32m      4\u001b[0m \u001b[0mterm\u001b[0m \u001b[0;34m=\u001b[0m \u001b[0mnp\u001b[0m\u001b[0;34m.\u001b[0m\u001b[0marray\u001b[0m\u001b[0;34m(\u001b[0m\u001b[0mordered\u001b[0m\u001b[0;34m[\u001b[0m\u001b[0;34m'term'\u001b[0m\u001b[0;34m]\u001b[0m\u001b[0;34m)\u001b[0m\u001b[0;34m\u001b[0m\u001b[0m\n\u001b[1;32m      5\u001b[0m \u001b[0mgrade\u001b[0m \u001b[0;34m=\u001b[0m \u001b[0mnp\u001b[0m\u001b[0;34m.\u001b[0m\u001b[0marray\u001b[0m\u001b[0;34m(\u001b[0m\u001b[0mordered\u001b[0m\u001b[0;34m[\u001b[0m\u001b[0;34m'mean_grade'\u001b[0m\u001b[0;34m]\u001b[0m\u001b[0;34m)\u001b[0m\u001b[0;34m\u001b[0m\u001b[0m\n",
        "\u001b[0;31mNameError\u001b[0m: name 'grades' is not defined"
       ]
      }
     ],
     "prompt_number": 4
    },
    {
     "cell_type": "code",
     "collapsed": false,
     "input": [
      "group = data['mean_grade'].groupby(data['subject'])"
     ],
     "language": "python",
     "metadata": {},
     "outputs": [],
     "prompt_number": 6
    },
    {
     "cell_type": "code",
     "collapsed": false,
     "input": [
      "def top(df, n = 5, column = 'mean_gradepen'):\n",
      "    return df.sort_index(by=column, ascending = False)[-n:]\n",
      "def bot(df, n = 5, column = 'mean_gradepen'):\n",
      "    return df.sort_index(by=column,ascending=False)[-n:]"
     ],
     "language": "python",
     "metadata": {},
     "outputs": [],
     "prompt_number": 7
    },
    {
     "cell_type": "code",
     "collapsed": false,
     "input": [
      "top(data)[['subject','catalognbr','termdescrshort','term','mean_grade','mean_gradepen']].dropna()"
     ],
     "language": "python",
     "metadata": {},
     "outputs": [
      {
       "html": [
        "<div style=\"max-height:1000px;max-width:1500px;overflow:auto;\">\n",
        "<table border=\"1\" class=\"dataframe\">\n",
        "  <thead>\n",
        "    <tr style=\"text-align: right;\">\n",
        "      <th></th>\n",
        "      <th>subject</th>\n",
        "      <th>catalognbr</th>\n",
        "      <th>termdescrshort</th>\n",
        "      <th>term</th>\n",
        "      <th>mean_grade</th>\n",
        "      <th>mean_gradepen</th>\n",
        "    </tr>\n",
        "  </thead>\n",
        "  <tbody>\n",
        "    <tr>\n",
        "      <th>150648</th>\n",
        "      <td> RCCORE</td>\n",
        "      <td> 309</td>\n",
        "      <td> SP 2008</td>\n",
        "      <td> 1680</td>\n",
        "      <td> 0</td>\n",
        "      <td>-4.066667</td>\n",
        "    </tr>\n",
        "    <tr>\n",
        "      <th>16815 </th>\n",
        "      <td> ARTDES</td>\n",
        "      <td> 460</td>\n",
        "      <td> WN 2004</td>\n",
        "      <td> 1470</td>\n",
        "      <td> 0</td>\n",
        "      <td>-4.281250</td>\n",
        "    </tr>\n",
        "    <tr>\n",
        "      <th>15756 </th>\n",
        "      <td> ARTDES</td>\n",
        "      <td> 320</td>\n",
        "      <td> WN 2006</td>\n",
        "      <td> 1570</td>\n",
        "      <td> 0</td>\n",
        "      <td>-4.659483</td>\n",
        "    </tr>\n",
        "    <tr>\n",
        "      <th>151885</th>\n",
        "      <td> RCLANG</td>\n",
        "      <td> 254</td>\n",
        "      <td> WN 2005</td>\n",
        "      <td> 1520</td>\n",
        "      <td> 0</td>\n",
        "      <td>-4.685714</td>\n",
        "    </tr>\n",
        "    <tr>\n",
        "      <th>150555</th>\n",
        "      <td> RCCORE</td>\n",
        "      <td> 205</td>\n",
        "      <td> WN 2006</td>\n",
        "      <td> 1570</td>\n",
        "      <td> 0</td>\n",
        "      <td>-4.804504</td>\n",
        "    </tr>\n",
        "  </tbody>\n",
        "</table>\n",
        "<p>5 rows \u00d7 6 columns</p>\n",
        "</div>"
       ],
       "metadata": {},
       "output_type": "pyout",
       "prompt_number": 8,
       "text": [
        "       subject catalognbr termdescrshort  term  mean_grade  mean_gradepen\n",
        "150648  RCCORE        309        SP 2008  1680           0      -4.066667\n",
        "16815   ARTDES        460        WN 2004  1470           0      -4.281250\n",
        "15756   ARTDES        320        WN 2006  1570           0      -4.659483\n",
        "151885  RCLANG        254        WN 2005  1520           0      -4.685714\n",
        "150555  RCCORE        205        WN 2006  1570           0      -4.804504\n",
        "\n",
        "[5 rows x 6 columns]"
       ]
      }
     ],
     "prompt_number": 8
    },
    {
     "cell_type": "heading",
     "level": 3,
     "metadata": {},
     "source": [
      "Data for a single class"
     ]
    },
    {
     "cell_type": "code",
     "collapsed": false,
     "input": [
      "department = 'ENGLISH'\n",
      "number =  '497'\n",
      "\n",
      "sub = data[data['subject']== department] #select for one department from big data set\n",
      "course = sub.ix[sub['catalognbr'] == number]\n",
      "term = np.array(course['term'])\n",
      "grade = np.array(course['mean_grade'])\n",
      "plt.plot(term,grade,'.')  #so now i can use it"
     ],
     "language": "python",
     "metadata": {},
     "outputs": [
      {
       "metadata": {},
       "output_type": "pyout",
       "prompt_number": 9,
       "text": [
        "[<matplotlib.lines.Line2D at 0x10c094d90>]"
       ]
      },
      {
       "metadata": {},
       "output_type": "display_data",
       "png": "[encoded data removed]",
       "text": [
        "<matplotlib.figure.Figure at 0x10c0106d0>"
       ]
      }
     ],
     "prompt_number": 9
    },
    {
     "cell_type": "code",
     "collapsed": false,
     "input": [],
     "language": "python",
     "metadata": {},
     "outputs": []
    }
   ],
   "metadata": {}
  }
 ]
}