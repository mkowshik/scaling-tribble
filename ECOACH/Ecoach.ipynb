{
 "metadata": {
  "name": "Exam Data Physics.ipynb"
 },
 "nbformat": 3,
 "nbformat_minor": 0,
 "worksheets": [
  {
   "cells": [
    {
     "cell_type": "heading",
     "level": 1,
     "metadata": {},
     "source": [
      "SOURCE - ECOACH DATA"
     ]
    },
    {
     "cell_type": "code",
     "collapsed": false,
     "input": [
      "import numpy as np\n",
      "import pandas as pd"
     ],
     "language": "python",
     "metadata": {},
     "outputs": [],
     "prompt_number": 58
    },
    {
     "cell_type": "code",
     "collapsed": false,
     "input": [
      "path = '/Users/Manoj/Dropbox/McKay/Data/Ecoach data/F2013/82_Source1Phys-1-14-14.csv'\n",
      "data = pd.read_csv(path)\n",
      "frame = pd.DataFrame(data)\n",
      "headers = data.ix\n"
     ],
     "language": "python",
     "metadata": {},
     "outputs": [],
     "prompt_number": 6
    },
    {
     "cell_type": "code",
     "collapsed": false,
     "input": [
      "grade = frame['Final_Course_Grade_Perc']#.value_counts()"
     ],
     "language": "python",
     "metadata": {},
     "outputs": [],
     "prompt_number": 7
    },
    {
     "cell_type": "code",
     "collapsed": false,
     "input": [
      "grade.hist(bins=50)\n"
     ],
     "language": "python",
     "metadata": {},
     "outputs": [
      {
       "metadata": {},
       "output_type": "pyout",
       "prompt_number": 8,
       "text": [
        "<matplotlib.axes.AxesSubplot at 0x10d111bd0>"
       ]
      },
      {
       "metadata": {},
       "output_type": "display_data",
       "png": "[encoded data removed]",
       "text": [
        "<matplotlib.figure.Figure at 0x10c049310>"
       ]
      }
     ],
     "prompt_number": 8
    },
    {
     "cell_type": "code",
     "collapsed": false,
     "input": [
      "#table with grades and courses\n",
      "table = frame[['Reg_Course','Exam_1_Score','Exam_2_Score','Exam_3_Score','Exam_Final_Score','Final_Course_Grade_Perc']].dropna()"
     ],
     "language": "python",
     "metadata": {},
     "outputs": [],
     "prompt_number": 9
    },
    {
     "cell_type": "code",
     "collapsed": false,
     "input": [
      "#table.value_counts()"
     ],
     "language": "python",
     "metadata": {},
     "outputs": [],
     "prompt_number": 10
    },
    {
     "cell_type": "code",
     "collapsed": false,
     "input": [
      "path2 = '/Users/Manoj/Dropbox/McKay/Data/Ecoach data/W2014/ACT_135.csv'\n",
      "data2 = pd.read_csv(path2)\n",
      "plt.hist(data2['35'])\n"
     ],
     "language": "python",
     "metadata": {},
     "outputs": [
      {
       "metadata": {},
       "output_type": "pyout",
       "prompt_number": 11,
       "text": [
        "(array([  1.,   0.,   9.,   7.,  20.,  11.,  41.,  15.,  31.,  21.]),\n",
        " array([ 21. ,  22.5,  24. ,  25.5,  27. ,  28.5,  30. ,  31.5,  33. ,\n",
        "        34.5,  36. ]),\n",
        " <a list of 10 Patch objects>)"
       ]
      },
      {
       "metadata": {},
       "output_type": "display_data",
       "png": "[encoded data removed]",
       "text": [
        "<matplotlib.figure.Figure at 0x10c04fc50>"
       ]
      }
     ],
     "prompt_number": 11
    },
    {
     "cell_type": "code",
     "collapsed": false,
     "input": [
      "#using sqlite "
     ],
     "language": "python",
     "metadata": {},
     "outputs": [],
     "prompt_number": 12
    },
    {
     "cell_type": "code",
     "collapsed": false,
     "input": [
      "from sqlite3 import *\n"
     ],
     "language": "python",
     "metadata": {},
     "outputs": [],
     "prompt_number": 21
    },
    {
     "cell_type": "code",
     "collapsed": false,
     "input": [
      "conn = connect('/Users/Manoj/Downloads/ecoach17.db')\n",
      "c = conn.cursor()\n",
      "\n",
      "#create table\n",
      "c.execute('select ACT_Math from ecoach where ACT_MATH > 0 and Reg_course ==135')\n",
      "frame = pd.DataFrame(c.fetchall())\n",
      "conn.commit() #save changes\n",
      "conn.close() #Close connection\n",
      "\n",
      "#Plot\n",
      "frame.dropna().hist()"
     ],
     "language": "python",
     "metadata": {},
     "outputs": [
      {
       "metadata": {},
       "output_type": "pyout",
       "prompt_number": 40,
       "text": [
        "array([[<matplotlib.axes.AxesSubplot object at 0x11f05ea50>]], dtype=object)"
       ]
      },
      {
       "metadata": {},
       "output_type": "display_data",
       "png": "[encoded data removed]",
       "text": [
        "<matplotlib.figure.Figure at 0x10dbb8850>"
       ]
      }
     ],
     "prompt_number": 40
    },
    {
     "cell_type": "code",
     "collapsed": false,
     "input": [
      "#create table\n",
      "conn = connect('/Users/Manoj/Downloads/ecoach17.db')\n",
      "c = conn.cursor()\n",
      "c.execute('select GPA_Conversion,REG_GPA from ecoach')\n",
      "frame = pd.DataFrame(c.fetchall())\n",
      "conn.commit() #save changes\n",
      "conn.close() #Close connection\n",
      "\n",
      "#Plot\n",
      "#frame[:].hist()\n",
      "plt.plot(frame[1],frame[0],'.')\n",
      "plt.ylim(0,4)\n",
      "\n",
      "\n",
      "##GPA conversion  - reported GPA\n",
      "#did not want to report their GPA"
     ],
     "language": "python",
     "metadata": {},
     "outputs": [
      {
       "metadata": {},
       "output_type": "pyout",
       "prompt_number": 67,
       "text": [
        "(0, 4)"
       ]
      },
      {
       "metadata": {},
       "output_type": "display_data",
       "png": "[encoded data removed]",
       "text": [
        "<matplotlib.figure.Figure at 0x127ba2e90>"
       ]
      }
     ],
     "prompt_number": 67
    },
    {
     "cell_type": "code",
     "collapsed": false,
     "input": [
      "#create table\n",
      "conn = connect('/Users/Manoj/Downloads/ecoach17.db')\n",
      "c = conn.cursor()\n",
      "c.execute('select Past_Physics,REG_GPA from ecoach')\n",
      "frame = pd.DataFrame(c.fetchall())\n",
      "conn.commit() #save changes\n",
      "conn.close() #Close connection\n",
      "\n",
      "#Plot\n",
      "#frame[0].hist()\n",
      "#frame[1].scatter()\n",
      "plt.plot(frame[1],frame[0],'.')"
     ],
     "language": "python",
     "metadata": {},
     "outputs": [],
     "prompt_number": 62
    },
    {
     "cell_type": "code",
     "collapsed": false,
     "input": [
      "\n"
     ],
     "language": "python",
     "metadata": {},
     "outputs": [
      {
       "metadata": {},
       "output_type": "pyout",
       "prompt_number": 63,
       "text": [
        "[<matplotlib.lines.Line2D at 0x12264f710>]"
       ]
      },
      {
       "metadata": {},
       "output_type": "display_data",
       "png": "[encoded data removed]",
       "text": [
        "<matplotlib.figure.Figure at 0x11d49a610>"
       ]
      }
     ],
     "prompt_number": 63
    },
    {
     "cell_type": "code",
     "collapsed": false,
     "input": [],
     "language": "python",
     "metadata": {},
     "outputs": [],
     "prompt_number": 59
    },
    {
     "cell_type": "code",
     "collapsed": false,
     "input": [],
     "language": "python",
     "metadata": {},
     "outputs": [],
     "prompt_number": 15
    },
    {
     "cell_type": "code",
     "collapsed": false,
     "input": [],
     "language": "python",
     "metadata": {},
     "outputs": [],
     "prompt_number": 15
    },
    {
     "cell_type": "code",
     "collapsed": false,
     "input": [],
     "language": "python",
     "metadata": {},
     "outputs": []
    }
   ],
   "metadata": {}
  }
 ]
}